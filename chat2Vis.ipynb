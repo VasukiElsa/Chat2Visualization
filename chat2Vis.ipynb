{
  "nbformat": 4,
  "nbformat_minor": 0,
  "metadata": {
    "colab": {
      "provenance": [],
      "mount_file_id": "1yD6tl7P3h5ax3SIPiIOCfynVSoLodhTe",
      "authorship_tag": "ABX9TyMf49EeRBnnYilnoSz42dCs",
      "include_colab_link": true
    },
    "kernelspec": {
      "name": "python3",
      "display_name": "Python 3"
    },
    "language_info": {
      "name": "python"
    }
  },
  "cells": [
    {
      "cell_type": "markdown",
      "metadata": {
        "id": "view-in-github",
        "colab_type": "text"
      },
      "source": [
        "<a href=\"https://colab.research.google.com/github/VasukiElsa/Chat2Visualization/blob/main/chat2Vis.ipynb\" target=\"_parent\"><img src=\"https://colab.research.google.com/assets/colab-badge.svg\" alt=\"Open In Colab\"/></a>"
      ]
    },
    {
      "cell_type": "markdown",
      "source": [
        "**Installation**"
      ],
      "metadata": {
        "id": "KfgrtB5CnhME"
      }
    },
    {
      "cell_type": "code",
      "execution_count": 1,
      "metadata": {
        "id": "t3xt69Faj0WF",
        "colab": {
          "base_uri": "https://localhost:8080/"
        },
        "outputId": "494314e3-d88c-4378-cbbc-7d3ebd77b062"
      },
      "outputs": [
        {
          "output_type": "stream",
          "name": "stdout",
          "text": [
            "\u001b[?25l     \u001b[90m━━━━━━━━━━━━━━━━━━━━━━━━━━━━━━━━━━━━━━━━\u001b[0m \u001b[32m0.0/146.6 kB\u001b[0m \u001b[31m?\u001b[0m eta \u001b[36m-:--:--\u001b[0m\r\u001b[2K     \u001b[91m━━━━━━━━━━━\u001b[0m\u001b[90m╺\u001b[0m\u001b[90m━━━━━━━━━━━━━━━━━━━━━━━━━━━━\u001b[0m \u001b[32m41.0/146.6 kB\u001b[0m \u001b[31m1.2 MB/s\u001b[0m eta \u001b[36m0:00:01\u001b[0m\r\u001b[2K     \u001b[90m━━━━━━━━━━━━━━━━━━━━━━━━━━━━━━━━━━━━━━━━\u001b[0m \u001b[32m146.6/146.6 kB\u001b[0m \u001b[31m2.3 MB/s\u001b[0m eta \u001b[36m0:00:00\u001b[0m\n",
            "\u001b[?25h\u001b[?25l     \u001b[90m━━━━━━━━━━━━━━━━━━━━━━━━━━━━━━━━━━━━━━━━\u001b[0m \u001b[32m0.0/598.7 kB\u001b[0m \u001b[31m?\u001b[0m eta \u001b[36m-:--:--\u001b[0m\r\u001b[2K     \u001b[91m━━━━━━━━━━━━━━━━━━━━━━━━━━━━\u001b[0m\u001b[91m╸\u001b[0m\u001b[90m━━━━━━━━━━━\u001b[0m \u001b[32m430.1/598.7 kB\u001b[0m \u001b[31m13.5 MB/s\u001b[0m eta \u001b[36m0:00:01\u001b[0m\r\u001b[2K     \u001b[90m━━━━━━━━━━━━━━━━━━━━━━━━━━━━━━━━━━━━━━━━\u001b[0m \u001b[32m598.7/598.7 kB\u001b[0m \u001b[31m9.6 MB/s\u001b[0m eta \u001b[36m0:00:00\u001b[0m\n",
            "\u001b[?25h"
          ]
        }
      ],
      "source": [
        "!pip install -q google-generativeai==0.3.1\n"
      ]
    },
    {
      "cell_type": "markdown",
      "source": [
        "**Imports**"
      ],
      "metadata": {
        "id": "81lc-OY8nmFP"
      }
    },
    {
      "cell_type": "code",
      "source": [
        "import google.generativeai as genai\n",
        "import sqlite3"
      ],
      "metadata": {
        "id": "gXG4GxY6npOW"
      },
      "execution_count": 3,
      "outputs": []
    },
    {
      "cell_type": "markdown",
      "source": [
        "**Version**"
      ],
      "metadata": {
        "id": "-tDCgxS8nxEk"
      }
    },
    {
      "cell_type": "code",
      "source": [
        "genai.__version__"
      ],
      "metadata": {
        "colab": {
          "base_uri": "https://localhost:8080/",
          "height": 35
        },
        "id": "C1-aVEEonzfg",
        "outputId": "4cf998fa-bdb5-49aa-810f-819b6804ed46"
      },
      "execution_count": 4,
      "outputs": [
        {
          "output_type": "execute_result",
          "data": {
            "text/plain": [
              "'0.3.1'"
            ],
            "application/vnd.google.colaboratory.intrinsic+json": {
              "type": "string"
            }
          },
          "metadata": {},
          "execution_count": 4
        }
      ]
    },
    {
      "cell_type": "markdown",
      "source": [
        "**Secret Key**"
      ],
      "metadata": {
        "id": "LdTKOgpKn7Vv"
      }
    },
    {
      "cell_type": "code",
      "source": [
        "from google.colab import userdata\n",
        "\n",
        "genai.configure(api_key = userdata.get('GEMINI_KEY'))"
      ],
      "metadata": {
        "id": "H0ciIqSaoBqa"
      },
      "execution_count": 5,
      "outputs": []
    },
    {
      "cell_type": "markdown",
      "source": [
        "**Configurations**"
      ],
      "metadata": {
        "id": "KDHWBq2xoKLs"
      }
    },
    {
      "cell_type": "code",
      "source": [
        "\n",
        "# Set up the model\n",
        "generation_config = {\n",
        "  \"temperature\": 0.4,\n",
        "  \"top_p\": 1,\n",
        "  \"top_k\": 32,\n",
        "  \"max_output_tokens\": 4096,\n",
        "}\n",
        "\n",
        "safety_settings = [\n",
        "  {\n",
        "    \"category\": \"HARM_CATEGORY_HARASSMENT\",\n",
        "    \"threshold\": \"BLOCK_MEDIUM_AND_ABOVE\"\n",
        "  },\n",
        "  {\n",
        "    \"category\": \"HARM_CATEGORY_HATE_SPEECH\",\n",
        "    \"threshold\": \"BLOCK_MEDIUM_AND_ABOVE\"\n",
        "  },\n",
        "  {\n",
        "    \"category\": \"HARM_CATEGORY_SEXUALLY_EXPLICIT\",\n",
        "    \"threshold\": \"BLOCK_MEDIUM_AND_ABOVE\"\n",
        "  },\n",
        "  {\n",
        "    \"category\": \"HARM_CATEGORY_DANGEROUS_CONTENT\",\n",
        "    \"threshold\": \"BLOCK_MEDIUM_AND_ABOVE\"\n",
        "  }\n",
        "]\n",
        "\n"
      ],
      "metadata": {
        "id": "u9mu9oyXoN78"
      },
      "execution_count": 6,
      "outputs": []
    },
    {
      "cell_type": "markdown",
      "source": [
        "**Model Instance**"
      ],
      "metadata": {
        "id": "mlVh_0SqoU8H"
      }
    },
    {
      "cell_type": "code",
      "source": [
        "model = genai.GenerativeModel(model_name = \"gemini-pro\",\n",
        "                              generation_config = generation_config,\n",
        "                              safety_settings = safety_settings)"
      ],
      "metadata": {
        "id": "JhpGeVXQodMX"
      },
      "execution_count": 7,
      "outputs": []
    },
    {
      "cell_type": "markdown",
      "source": [
        "**SQL Query Executer**"
      ],
      "metadata": {
        "id": "AMoT7oGYpfu6"
      }
    },
    {
      "cell_type": "code",
      "source": [
        "def read_sql_query(sql, db):\n",
        "    conn = sqlite3.connect(db)\n",
        "    cur = conn.cursor()\n",
        "    cur.execute(sql)\n",
        "    rows = cur.fetchall()\n",
        "    for row in rows:\n",
        "        print(row)\n",
        "    conn.close()"
      ],
      "metadata": {
        "id": "_LJMJMCtpkFG"
      },
      "execution_count": 8,
      "outputs": []
    },
    {
      "cell_type": "code",
      "source": [
        "read_sql_query('SELECT * FROM fashion_products;',\n",
        "               \"/content/drive/MyDrive/fashion_db.sqlite\")"
      ],
      "metadata": {
        "colab": {
          "base_uri": "https://localhost:8080/"
        },
        "id": "fz3MMDQ2ppbd",
        "outputId": "0cba14ce-38d5-47d3-e6b9-ca728b27a747"
      },
      "execution_count": 9,
      "outputs": [
        {
          "output_type": "stream",
          "name": "stdout",
          "text": [
            "(19, 1, 'Dress', 'Adidas', \"Men's Fashion\", 40.0, 'Black', 'XL')\n",
            "(97, 2, 'Shoes', 'H&M', \"Women's Fashion\", 82.0, 'Black', 'L')\n",
            "(25, 3, 'Dress', 'Adidas', \"Women's Fashion\", 44.0, 'Yellow', 'XL')\n",
            "(57, 4, 'Shoes', 'Zara', \"Men's Fashion\", 23.0, 'White', 'S')\n",
            "(79, 5, 'T-shirt', 'Adidas', \"Men's Fashion\", 79.0, 'Black', 'M')\n",
            "(98, 6, 'Dress', 'Adidas', \"Men's Fashion\", 47.0, 'Yellow', 'L')\n",
            "(16, 7, 'Jeans', 'Gucci', \"Men's Fashion\", 37.0, 'White', 'XL')\n",
            "(63, 8, 'Sweater', 'Zara', \"Kids' Fashion\", 64.0, 'Blue', 'XL')\n",
            "(96, 9, 'Sweater', 'H&M', \"Men's Fashion\", 53.0, 'Green', 'XL')\n",
            "(36, 10, 'T-shirt', 'Zara', \"Kids' Fashion\", 55.0, 'White', 'XL')\n"
          ]
        }
      ]
    },
    {
      "cell_type": "markdown",
      "source": [
        "**Define Prompt**"
      ],
      "metadata": {
        "id": "Y_O1mwiXtru-"
      }
    },
    {
      "cell_type": "code",
      "source": [
        "prompt_parts_1 = [\n",
        "  \"You are an expert in converting English questions to SQL code! The SQL database has the name fashion_products and has the following columns - user_id, product_id, product_name, brand, category, price, color, and size.\\n\\nFor example,\\nExample 1 - How many entries of Adidas are present?, the SQL command will be something like this\\n``` SELECT COUNT(*) FROM fashion_products WHERE brand = 'Adidas';\\n```\\n\\nExample 2 - How many XL products of Nike are there that have a rating of more than 4?\\n```\\nSELECT COUNT(*) FROM fashion_products WHERE brand = 'Nike' AND size = 'XL' AND \\\"Rating\\\" > 4;\\n```\\n\\nExample 3 - \\n```\\nSELECT product_name FROM fashion_products WHERE price = (SELECT MAX(price) FROM fashion_products);\\n\\n Example 4 - Give me the details of most expensive T-shirt\\n ``` SELECT * FROM fashion_products WHERE product_name = 'T-shirt' AND price = (SELCT MAX(price) FROM fashion_products WHERE product_name = 'T-shirt');\\n```\\n\\n```Dont include ``` and \\\\n in the output\",\n",
        "]"
      ],
      "metadata": {
        "id": "1GntDIqytuY1"
      },
      "execution_count": 10,
      "outputs": []
    },
    {
      "cell_type": "code",
      "source": [
        "question = \"Give me the details of the most expensive T-shirt?\""
      ],
      "metadata": {
        "id": "9iUHnGlXt0zy"
      },
      "execution_count": 11,
      "outputs": []
    },
    {
      "cell_type": "code",
      "source": [
        "prompt_parts = [prompt_parts_1[0], question]\n",
        "response = model.generate_content(prompt_parts)\n",
        "response.text"
      ],
      "metadata": {
        "colab": {
          "base_uri": "https://localhost:8080/",
          "height": 53
        },
        "id": "v7oXyNNQt5O6",
        "outputId": "133cae5e-ab30-4014-ea3a-c6dfe2613799"
      },
      "execution_count": 12,
      "outputs": [
        {
          "output_type": "execute_result",
          "data": {
            "text/plain": [
              "\"SELECT * FROM fashion_products WHERE product_name = 'T-shirt' AND price = (SELECT MAX(price) FROM fashion_products WHERE product_name = 'T-shirt');\""
            ],
            "application/vnd.google.colaboratory.intrinsic+json": {
              "type": "string"
            }
          },
          "metadata": {},
          "execution_count": 12
        }
      ]
    },
    {
      "cell_type": "code",
      "source": [
        "read_sql_query(\"\"\"\n",
        "SELECT * FROM fashion_products WHERE product_name = 'T-shirt' AND price = (SELECT MAX(price) FROM fashion_products WHERE product_name = 'T-shirt');\n",
        "\"\"\",\"/content/drive/MyDrive/fashion_db.sqlite\")"
      ],
      "metadata": {
        "colab": {
          "base_uri": "https://localhost:8080/"
        },
        "id": "_sAXeWjdvpyM",
        "outputId": "52b94c3a-d93c-457b-cd8c-623a108fe75e"
      },
      "execution_count": 13,
      "outputs": [
        {
          "output_type": "stream",
          "name": "stdout",
          "text": [
            "(79, 5, 'T-shirt', 'Adidas', \"Men's Fashion\", 79.0, 'Black', 'M')\n"
          ]
        }
      ]
    },
    {
      "cell_type": "markdown",
      "source": [
        "**Combine it into Function**"
      ],
      "metadata": {
        "id": "VXTvR5h91GXK"
      }
    },
    {
      "cell_type": "code",
      "source": [
        "def generate_gemini_response(question, input_prompt):\n",
        "    prompt_parts = [input_prompt, question]\n",
        "    response = model.generate_content(prompt_parts)\n",
        "    output = read_sql_query(response.text, \"/content/drive/MyDrive/fashion_db.sqlite\")\n",
        "    return output"
      ],
      "metadata": {
        "id": "JSZUcIdI1Jxd"
      },
      "execution_count": 20,
      "outputs": []
    },
    {
      "cell_type": "code",
      "source": [
        "generate_gemini_response(\"How many products of Adidas are there?\",\n",
        "                         prompt_parts_1[0])"
      ],
      "metadata": {
        "colab": {
          "base_uri": "https://localhost:8080/",
          "height": 34
        },
        "id": "b12UR_DE1R4O",
        "outputId": "5a5e9647-1d45-42f0-b056-7a1e5aa1fca1"
      },
      "execution_count": 21,
      "outputs": [
        {
          "output_type": "stream",
          "name": "stdout",
          "text": [
            "(4,)\n"
          ]
        }
      ]
    },
    {
      "cell_type": "markdown",
      "source": [
        "**Visualization**"
      ],
      "metadata": {
        "id": "gGjbbLpTvrIc"
      }
    },
    {
      "cell_type": "code",
      "source": [
        "from bs4 import BeautifulSoup\n",
        "import sqlite3\n",
        "import matplotlib.pyplot as plt\n",
        "\n",
        "def generate_visualization(query, db):\n",
        "    # Connect to the SQLite database\n",
        "    conn = sqlite3.connect(db)\n",
        "    c = conn.cursor()\n",
        "\n",
        "    # Execute the SQL query and fetch the results\n",
        "    c.execute(query)\n",
        "    results = c.fetchall()\n",
        "\n",
        "    print(results)\n",
        "\n",
        "    # Close the database connection\n",
        "    conn.close()\n",
        "\n",
        "    # Prepare the data for visualization\n",
        "    data = {}\n",
        "    for row in results:\n",
        "        brand = row[1]  # Brand is at index 1\n",
        "        count = row[0]  # Count is at index 0\n",
        "        data[brand] = count\n",
        "\n",
        "    # Create the bar chart\n",
        "    brand = list(data.keys())\n",
        "    counts = list(data.values())\n",
        "\n",
        "    plt.figure(figsize=(10, 6))\n",
        "    plt.bar(brand, counts)\n",
        "    plt.xlabel(\"Brands\")\n",
        "    plt.ylabel(\"Number of Products\")\n",
        "    plt.title(\"Product Count by Brand\")\n",
        "    plt.xticks(rotation=45)\n",
        "    plt.tight_layout()\n",
        "    plt.show()\n",
        "\n",
        "# Call the function with the desired query\n",
        "generate_visualization(\"SELECT COUNT(*) as count, brand FROM fashion_products GROUP BY brand\", \"/content/drive/MyDrive/fashion_db.sqlite\")"
      ],
      "metadata": {
        "colab": {
          "base_uri": "https://localhost:8080/",
          "height": 624
        },
        "id": "4HaJOKuGvuE6",
        "outputId": "79c94475-4372-4605-d767-3dcb8e1dbe91"
      },
      "execution_count": 24,
      "outputs": [
        {
          "output_type": "stream",
          "name": "stdout",
          "text": [
            "[(4, 'Adidas'), (1, 'Gucci'), (2, 'H&M'), (3, 'Zara')]\n"
          ]
        },
        {
          "output_type": "display_data",
          "data": {
            "text/plain": [
              "<Figure size 1000x600 with 1 Axes>"
            ],
            "image/png": "[encoded data removed]"
          },
          "metadata": {}
        }
      ]
    }
  ]
}